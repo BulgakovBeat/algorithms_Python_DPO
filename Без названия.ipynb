{
 "cells": [
  {
   "cell_type": "code",
   "execution_count": 21,
   "id": "9acbe692",
   "metadata": {},
   "outputs": [
    {
     "name": "stdout",
     "output_type": "stream",
     "text": [
      "3\n"
     ]
    }
   ],
   "source": [
    "a = [1,2,3]\n",
    "\n",
    "def search(arr, item):\n",
    "    low = 0\n",
    "    high = len(arr) -1\n",
    "    \n",
    "    while low <= high:\n",
    "        guess = round((low+high)/2)\n",
    "\n",
    "        if arr[guess] == item:\n",
    "            return item\n",
    "        if arr[guess] < item:\n",
    "            low = guess + 1\n",
    "        else:\n",
    "            high = guess\n",
    "    return None\n",
    "        \n",
    "res = search(a, 3)\n",
    "print(res)"
   ]
  },
  {
   "cell_type": "code",
   "execution_count": null,
   "id": "bb43af0e",
   "metadata": {},
   "outputs": [],
   "source": []
  }
 ],
 "metadata": {
  "kernelspec": {
   "display_name": "Python 3",
   "language": "python",
   "name": "python3"
  },
  "language_info": {
   "codemirror_mode": {
    "name": "ipython",
    "version": 3
   },
   "file_extension": ".py",
   "mimetype": "text/x-python",
   "name": "python",
   "nbconvert_exporter": "python",
   "pygments_lexer": "ipython3",
   "version": "3.8.8"
  }
 },
 "nbformat": 4,
 "nbformat_minor": 5
}
