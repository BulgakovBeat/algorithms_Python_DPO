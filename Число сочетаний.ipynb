{
 "cells": [
  {
   "cell_type": "code",
   "execution_count": 33,
   "id": "d2758552",
   "metadata": {},
   "outputs": [
    {
     "name": "stdout",
     "output_type": "stream",
     "text": [
      "0\n",
      "0\n",
      "1\n"
     ]
    }
   ],
   "source": [
    "Cn = int(input())\n",
    "Ck = int(input())\n",
    "\n",
    "def c(n, k):\n",
    "    while k <= n:\n",
    "        if k == 0:\n",
    "            return 1\n",
    "        if k == 1:\n",
    "            return n\n",
    "        if n == k:\n",
    "            return 1\n",
    "        else:\n",
    "            res1 = c(n-1, k)\n",
    "            res2 = c(n-1, k-1)\n",
    "            return res1 + res2\n",
    "print(c(Cn, Ck))"
   ]
  },
  {
   "cell_type": "code",
   "execution_count": null,
   "id": "5ab55a7a",
   "metadata": {},
   "outputs": [],
   "source": []
  }
 ],
 "metadata": {
  "kernelspec": {
   "display_name": "Python 3",
   "language": "python",
   "name": "python3"
  },
  "language_info": {
   "codemirror_mode": {
    "name": "ipython",
    "version": 3
   },
   "file_extension": ".py",
   "mimetype": "text/x-python",
   "name": "python",
   "nbconvert_exporter": "python",
   "pygments_lexer": "ipython3",
   "version": "3.8.8"
  }
 },
 "nbformat": 4,
 "nbformat_minor": 5
}
