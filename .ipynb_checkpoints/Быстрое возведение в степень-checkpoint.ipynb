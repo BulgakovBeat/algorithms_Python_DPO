{
 "cells": [
  {
   "cell_type": "code",
   "execution_count": 21,
   "id": "0bfb9068",
   "metadata": {},
   "outputs": [
    {
     "name": "stdout",
     "output_type": "stream",
     "text": [
      "2\n",
      "4\n",
      "\n",
      "16\n"
     ]
    }
   ],
   "source": [
    "number = int(input())\n",
    "degree = int(input())\n",
    "\n",
    "def bin_pow(n, d):\n",
    "    if d == 0:\n",
    "        return 1\n",
    "    if d == 1:\n",
    "        return n\n",
    "    if d%2 == 1:\n",
    "        return bin_pow(n, d-1) * n\n",
    "    else:\n",
    "        b = bin_pow(n, int(d/2))\n",
    "        return b*b\n",
    "\n",
    "print(bin_pow(number, degree))"
   ]
  },
  {
   "cell_type": "code",
   "execution_count": 1,
   "id": "9c091349",
   "metadata": {},
   "outputs": [
    {
     "data": {
      "text/plain": [
       "2.0"
      ]
     },
     "execution_count": 1,
     "metadata": {},
     "output_type": "execute_result"
    }
   ],
   "source": [
    "4/2"
   ]
  }
 ],
 "metadata": {
  "kernelspec": {
   "display_name": "Python 3",
   "language": "python",
   "name": "python3"
  },
  "language_info": {
   "codemirror_mode": {
    "name": "ipython",
    "version": 3
   },
   "file_extension": ".py",
   "mimetype": "text/x-python",
   "name": "python",
   "nbconvert_exporter": "python",
   "pygments_lexer": "ipython3",
   "version": "3.8.8"
  }
 },
 "nbformat": 4,
 "nbformat_minor": 5
}
