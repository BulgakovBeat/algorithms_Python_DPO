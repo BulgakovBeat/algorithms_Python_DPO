{
 "cells": [
  {
   "cell_type": "code",
   "execution_count": 14,
   "id": "35c5e21e",
   "metadata": {},
   "outputs": [
    {
     "name": "stdout",
     "output_type": "stream",
     "text": [
      "12288 -10075 29710 15686 -18900 -17715 15992 24431 6220 28403 -23148 18480 -22905 5411 -7602 15560 -26674 11109 -4323 6146 -1523 4312 10666 -15343 -17679 7284 20709 -7103 24305 14334 -12281 17314 26061 25616 17453 16618 -24230 -19788 21172 11339 2202 -22442 -20997 1879 -8773 -8736 5310 -23372 12621 -25596 -28609 -13309 -13 10336 15812 -21193 21576 -1897 -12311 -6988 -25143 -3501 23231 26610 12618 25834 -29140 21011 23427 1494 15215 23013 -15739 8325 5359 -12932 18111 -72 -12509 20116 24390 1920 17487 25536 24934 -6784 -16417 -2222 -16569 -25594 4491 14249 -28927 27281 3297 5998 6259 4577 12415 3779 -8856 3994 19941 11047 2866 -24443 -17299 -9556 12244 6376 -13694 -14647 -22225 21872 7543 -6935 17736 -2464 9390 1133 18202 -9733 -26011 13474 29793 -26628 -26124 27776 970 14277 -23213 775 -9318 29014 -5645 -27027 -21822 -17450 -5 -655 22807 -20981 16310 27605 -18393 914 7323 599 -12503 -28684 5835 -5627 25891 -11801 21243 -21506 22542 -5097 8115 178 10427 25808 10836 -11213 18488 21293 14652 12260 42 21034 8396 -27956 13670 -296 -757 18076 -15597 4135 -25222 -19603 8007 6012 2704 28935 16188 -20848 13502 -11950 -24466 5440 26348 27378 7990 -11523 -26393 \n",
      "29710 29793\n"
     ]
    }
   ],
   "source": [
    "numbers = [int(x) for x in input().split()]\n",
    "\n",
    "\n",
    "def maxProduct(arr, n):\n",
    " \n",
    "    if (n < 2):\n",
    "        print(\"No pairs exists\")\n",
    "        return\n",
    "\n",
    "    a = arr[0]; b = arr[1]\n",
    " \n",
    "    for i in range(0, n):\n",
    "        for j in range(i + 1, n):\n",
    "            if (arr[i] * arr[j] > a * b):\n",
    "                a = arr[i]; b = arr[j]\n",
    "    return [a, b]\n",
    "            \n",
    "n = len(numbers)\n",
    "result = maxProduct(numbers, n)\n",
    "print(*result)"
   ]
  },
  {
   "cell_type": "markdown",
   "id": "13400e6e",
   "metadata": {},
   "source": [
    "29710 29793\n"
   ]
  },
  {
   "cell_type": "code",
   "execution_count": 33,
   "id": "6355fe71",
   "metadata": {},
   "outputs": [
    {
     "name": "stdout",
     "output_type": "stream",
     "text": [
      "4\n",
      "No pairs exists\n"
     ]
    }
   ],
   "source": [
    "numbers = [int(x) for x in input().split()]\n",
    "\n",
    "def maxProduct(arr, n):\n",
    " \n",
    "    if (n < 2):\n",
    "        print(\"No pairs exists\")\n",
    "        return\n",
    " \n",
    "    if (n == 2):\n",
    "        print(arr[0], arr[1])\n",
    "        return\n",
    " \n",
    "\n",
    "    posa = 0\n",
    "    posb = 0\n",
    " \n",
    "    nega = 0\n",
    "    negb = 0\n",
    " \n",
    "\n",
    "    for i in range(n):\n",
    "        if (arr[i] > posa):\n",
    "            posb = posa\n",
    "            posa = arr[i]\n",
    "         \n",
    "        elif (arr[i] > posb):\n",
    "            posb = arr[i]\n",
    " \n",
    "        if (arr[i] < 0 and abs(arr[i]) > abs(nega)):\n",
    "            negb = nega\n",
    "            nega = arr[i]\n",
    "         \n",
    "        elif(arr[i] < 0 and abs(arr[i]) > abs(negb)):\n",
    "            negb = arr[i]\n",
    " \n",
    "    if (nega * negb > posa * posb):\n",
    "        if(nega < negb):\n",
    "            print(nega, negb)\n",
    "        else:\n",
    "            print(negb, nega)\n",
    "    else:\n",
    "        if(posa < posb):\n",
    "            print(posa, posb)\n",
    "        else:\n",
    "            print(posb, posa)\n",
    "        \n",
    "n = len(numbers)\n",
    "maxProduct(numbers, n)\n"
   ]
  },
  {
   "cell_type": "code",
   "execution_count": null,
   "id": "550bec8f",
   "metadata": {},
   "outputs": [],
   "source": [
    "a = list(map(int, input().split()))\n",
    "\n",
    "min1 = min(a)\n",
    "a.pop(a.index(min1))\n",
    "min2 = min(a)\n",
    "a.pop(a.index(min2))\n",
    "\n",
    "max1 = max(a)\n",
    "a.pop(a.index(max1))\n",
    "max2 = max(a)\n",
    "a.pop(a.index(max2))\n",
    "\n",
    "if max1*max2 > min1*min2:\n",
    "    res = [max1, max2]\n",
    "    \n",
    "else:\n",
    "    res = [min1, min2]\n",
    "res.sort()\n",
    "print(*res)\n",
    "    \n"
   ]
  },
  {
   "cell_type": "code",
   "execution_count": null,
   "id": "40da0d7f",
   "metadata": {},
   "outputs": [],
   "source": []
  }
 ],
 "metadata": {
  "kernelspec": {
   "display_name": "Python 3",
   "language": "python",
   "name": "python3"
  },
  "language_info": {
   "codemirror_mode": {
    "name": "ipython",
    "version": 3
   },
   "file_extension": ".py",
   "mimetype": "text/x-python",
   "name": "python",
   "nbconvert_exporter": "python",
   "pygments_lexer": "ipython3",
   "version": "3.8.8"
  }
 },
 "nbformat": 4,
 "nbformat_minor": 5
}
