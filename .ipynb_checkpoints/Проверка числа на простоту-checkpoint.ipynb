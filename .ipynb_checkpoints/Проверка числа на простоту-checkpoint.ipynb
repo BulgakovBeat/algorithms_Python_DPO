{
 "cells": [
  {
   "cell_type": "code",
   "execution_count": null,
   "id": "2941c6cf",
   "metadata": {},
   "outputs": [],
   "source": [
    "import math\n",
    "number = int(input())\n",
    "\n",
    "\n",
    "def isPrime(n):\n",
    "    s = round(math.sqrt(n))\n",
    "    print(s)\n",
    "    for i in range(2, s):\n",
    "        print(i)\n",
    "        if n % i == 0:\n",
    "            return 'NO'\n",
    "    return 'YES' \n",
    "\n",
    "\n",
    "isPrime(number)"
   ]
  },
  {
   "cell_type": "code",
   "execution_count": null,
   "id": "fb4fd438",
   "metadata": {},
   "outputs": [],
   "source": []
  }
 ],
 "metadata": {
  "kernelspec": {
   "display_name": "Python 3",
   "language": "python",
   "name": "python3"
  },
  "language_info": {
   "codemirror_mode": {
    "name": "ipython",
    "version": 3
   },
   "file_extension": ".py",
   "mimetype": "text/x-python",
   "name": "python",
   "nbconvert_exporter": "python",
   "pygments_lexer": "ipython3",
   "version": "3.8.8"
  }
 },
 "nbformat": 4,
 "nbformat_minor": 5
}
