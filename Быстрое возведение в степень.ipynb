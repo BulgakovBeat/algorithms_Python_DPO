{
 "cells": [
  {
   "cell_type": "code",
   "execution_count": 54,
   "id": "c94bd1ee",
   "metadata": {},
   "outputs": [
    {
     "name": "stdout",
     "output_type": "stream",
     "text": [
      "0.25\n",
      "1\n",
      "0.25\n"
     ]
    }
   ],
   "source": [
    "number = float(input())\n",
    "degree = int(input())\n",
    "\n",
    "def bin_pow(n, d):\n",
    "    if d == 0:\n",
    "        return 1\n",
    "    if d == 1:\n",
    "        return n\n",
    "    if d < 0:\n",
    "        return bin_pow(1/n, -d)\n",
    "    if d%2 == 1:\n",
    "        res = bin_pow(n, d-1) * n\n",
    "        return res\n",
    "    else:\n",
    "        b = bin_pow(n, d//2)\n",
    "        res = b*b\n",
    "        return res\n",
    "\n",
    "print(bin_pow(number, degree))\n"
   ]
  },
  {
   "cell_type": "code",
   "execution_count": null,
   "id": "b5839c6a",
   "metadata": {},
   "outputs": [],
   "source": []
  },
  {
   "cell_type": "code",
   "execution_count": 42,
   "id": "ca2d3e4a",
   "metadata": {},
   "outputs": [
    {
     "name": "stdout",
     "output_type": "stream",
     "text": [
      "2\n",
      "1\n"
     ]
    },
    {
     "data": {
      "text/plain": [
       "2"
      ]
     },
     "execution_count": 42,
     "metadata": {},
     "output_type": "execute_result"
    }
   ],
   "source": [
    "number = int(input())\n",
    "degree = int(input())\n",
    "\n",
    "def power(a,n):\n",
    "    if(n==0):\n",
    "      return 1\n",
    "    x=power(a,int(n/2))\n",
    "    x=x*x\n",
    "    if(n%2==1):\n",
    "      x=x*a\n",
    "    return x\n",
    "\n",
    "print(power(number, degree))"
   ]
  },
  {
   "cell_type": "code",
   "execution_count": null,
   "id": "d86bf474",
   "metadata": {},
   "outputs": [],
   "source": []
  }
 ],
 "metadata": {
  "kernelspec": {
   "display_name": "Python 3",
   "language": "python",
   "name": "python3"
  },
  "language_info": {
   "codemirror_mode": {
    "name": "ipython",
    "version": 3
   },
   "file_extension": ".py",
   "mimetype": "text/x-python",
   "name": "python",
   "nbconvert_exporter": "python",
   "pygments_lexer": "ipython3",
   "version": "3.8.8"
  }
 },
 "nbformat": 4,
 "nbformat_minor": 5
}
