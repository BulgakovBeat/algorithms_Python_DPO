{
 "cells": [
  {
   "cell_type": "code",
   "execution_count": 5,
   "id": "ea102885",
   "metadata": {},
   "outputs": [
    {
     "name": "stdout",
     "output_type": "stream",
     "text": [
      "1\n",
      "121212\n",
      "13\n",
      "\n",
      "1\n",
      "1121\n",
      "13\n"
     ]
    }
   ],
   "source": [
    "# binary search\n",
    "import math\n",
    "\n",
    "a = [1,2,13,1121,121212]\n",
    "b = [1,2,13,1121]\n",
    "\n",
    "def binary_search(arr, item):\n",
    "    low = 0\n",
    "    high = len(arr) - 1\n",
    "    \n",
    "    while low <= high:\n",
    "        mid = math.floor((low + high)/2)\n",
    "        guess = arr[mid]\n",
    "        if guess == item:\n",
    "            return item\n",
    "        if guess > item:\n",
    "            high = mid\n",
    "        else:\n",
    "            low = mid + 1\n",
    "    return None\n",
    "\n",
    "res = binary_search(a, 1)\n",
    "print(res)\n",
    "res1 = binary_search(a, 121212)\n",
    "print(res1)\n",
    "res2 = binary_search(a, 13)\n",
    "print(res2)\n",
    "\n",
    "print()\n",
    "res3 = binary_search(b, 1)\n",
    "print(res3)\n",
    "res4 = binary_search(b, 1121)\n",
    "print(res4)\n",
    "res5 = binary_search(b, 13)\n",
    "print(res5)"
   ]
  },
  {
   "cell_type": "code",
   "execution_count": null,
   "id": "b07c804f",
   "metadata": {},
   "outputs": [],
   "source": []
  },
  {
   "cell_type": "code",
   "execution_count": null,
   "id": "346691e3",
   "metadata": {},
   "outputs": [],
   "source": [
    "a = [1,2,13,1121,121212]\n",
    "b = [1,2,13,1121]\n",
    "\n",
    "def binary_search(arr, item):\n",
    "\n",
    "\n",
    "res = binary_search(a, 1)\n",
    "print(res)\n",
    "res1 = binary_search(a, 121212)\n",
    "print(res1)\n",
    "res2 = binary_search(a, 13)\n",
    "print(res2)\n",
    "\n",
    "print()\n",
    "res3 = binary_search(b, 1)\n",
    "print(res3)\n",
    "res4 = binary_search(b, 1121)\n",
    "print(res4)\n",
    "res5 = binary_search(b, 13)\n",
    "print(res5)"
   ]
  }
 ],
 "metadata": {
  "kernelspec": {
   "display_name": "Python 3",
   "language": "python",
   "name": "python3"
  },
  "language_info": {
   "codemirror_mode": {
    "name": "ipython",
    "version": 3
   },
   "file_extension": ".py",
   "mimetype": "text/x-python",
   "name": "python",
   "nbconvert_exporter": "python",
   "pygments_lexer": "ipython3",
   "version": "3.8.8"
  }
 },
 "nbformat": 4,
 "nbformat_minor": 5
}
